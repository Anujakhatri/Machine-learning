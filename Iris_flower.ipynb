{
  "nbformat": 4,
  "nbformat_minor": 0,
  "metadata": {
    "colab": {
      "provenance": [],
      "authorship_tag": "ABX9TyOHfo8nxfdmWOYvmzU5JvcH",
      "include_colab_link": true
    },
    "kernelspec": {
      "name": "python3",
      "display_name": "Python 3"
    },
    "language_info": {
      "name": "python"
    }
  },
  "cells": [
    {
      "cell_type": "markdown",
      "metadata": {
        "id": "view-in-github",
        "colab_type": "text"
      },
      "source": [
        "<a href=\"https://colab.research.google.com/github/Anujakhatri/Machine-learning/blob/main/Iris_flower.ipynb\" target=\"_parent\"><img src=\"https://colab.research.google.com/assets/colab-badge.svg\" alt=\"Open In Colab\"/></a>"
      ]
    },
    {
      "cell_type": "code",
      "execution_count": 1,
      "metadata": {
        "colab": {
          "base_uri": "https://localhost:8080/"
        },
        "id": "VIY7mQMiPDc_",
        "outputId": "8640bad1-4545-4fa0-a5ea-bcfdc7ec0420"
      },
      "outputs": [
        {
          "output_type": "stream",
          "name": "stdout",
          "text": [
            "Feature name: ['sepal length (cm)', 'sepal width (cm)', 'petal length (cm)', 'petal width (cm)']\n",
            "Target names: ['setosa' 'versicolor' 'virginica']\n",
            "first 5 samples:\n",
            "Sample 1:[5.1 3.5 1.4 0.2] (Class: 0, Species: setosa)\n",
            "Sample 2:[4.9 3.  1.4 0.2] (Class: 0, Species: setosa)\n",
            "Sample 3:[4.7 3.2 1.3 0.2] (Class: 0, Species: setosa)\n",
            "Sample 4:[4.6 3.1 1.5 0.2] (Class: 0, Species: setosa)\n",
            "Sample 5:[5.  3.6 1.4 0.2] (Class: 0, Species: setosa)\n"
          ]
        }
      ],
      "source": [
        "from sklearn.datasets import load_iris\n",
        "iris=load_iris()\n",
        "\n",
        "X=iris.data\n",
        "y=iris.target\n",
        "\n",
        "print(\"Feature name:\", iris.feature_names)\n",
        "print(\"Target names:\", iris.target_names)\n",
        "\n",
        "print(\"first 5 samples:\")\n",
        "for i in range(5):\n",
        "    print(f\"Sample {i+1}:{X[i]} (Class: {y[i]}, Species: {iris.target_names[y[i]]})\")"
      ]
    },
    {
      "cell_type": "code",
      "source": [],
      "metadata": {
        "id": "q-LHIp5sPNFn"
      },
      "execution_count": null,
      "outputs": []
    }
  ]
}