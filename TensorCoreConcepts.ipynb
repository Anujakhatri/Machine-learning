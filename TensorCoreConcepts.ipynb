{
  "nbformat": 4,
  "nbformat_minor": 0,
  "metadata": {
    "colab": {
      "provenance": [],
      "authorship_tag": "ABX9TyMH/cKQ/mBC2kD4td6wt+jQ",
      "include_colab_link": true
    },
    "kernelspec": {
      "name": "python3",
      "display_name": "Python 3"
    },
    "language_info": {
      "name": "python"
    }
  },
  "cells": [
    {
      "cell_type": "markdown",
      "metadata": {
        "id": "view-in-github",
        "colab_type": "text"
      },
      "source": [
        "<a href=\"https://colab.research.google.com/github/Anujakhatri/Machine-learning/blob/main/TensorCoreConcepts.ipynb\" target=\"_parent\"><img src=\"https://colab.research.google.com/assets/colab-badge.svg\" alt=\"Open In Colab\"/></a>"
      ]
    },
    {
      "cell_type": "markdown",
      "source": [
        "# Tensor Constant"
      ],
      "metadata": {
        "id": "2WjFHY7tmXen"
      }
    },
    {
      "cell_type": "code",
      "execution_count": 1,
      "metadata": {
        "colab": {
          "base_uri": "https://localhost:8080/"
        },
        "id": "cMsGHpPImEFo",
        "outputId": "a0ef68f5-2e8a-42a0-858b-e4d5cd8967ce"
      },
      "outputs": [
        {
          "output_type": "stream",
          "name": "stdout",
          "text": [
            "Constant Tensor: tf.Tensor([1 2 3], shape=(3,), dtype=int32)\n"
          ]
        }
      ],
      "source": [
        "import tensorflow as tf\n",
        "\n",
        "# Creating a constant tensor\n",
        "const_tensor = tf.constant([1, 2, 3], dtype=tf.int32)\n",
        "print(\"Constant Tensor:\", const_tensor)"
      ]
    },
    {
      "cell_type": "markdown",
      "source": [
        "# Variables"
      ],
      "metadata": {
        "id": "BUL6gf1zmcq1"
      }
    },
    {
      "cell_type": "code",
      "source": [
        "# Creating a variable tensor\n",
        "var_tensor = tf.Variable([1.0, 2.0, 3.0], dtype=tf.float32)\n",
        "print(\"Variable Tensor:\", var_tensor)"
      ],
      "metadata": {
        "colab": {
          "base_uri": "https://localhost:8080/"
        },
        "id": "EsyytDYamHw2",
        "outputId": "bd9de40b-fc6c-4e72-b644-fe12da88356b"
      },
      "execution_count": 2,
      "outputs": [
        {
          "output_type": "stream",
          "name": "stdout",
          "text": [
            "Variable Tensor: <tf.Variable 'Variable:0' shape=(3,) dtype=float32, numpy=array([1., 2., 3.], dtype=float32)>\n"
          ]
        }
      ]
    },
    {
      "cell_type": "markdown",
      "source": [
        "# Initialization"
      ],
      "metadata": {
        "id": "A4Op4cmDm04m"
      }
    },
    {
      "cell_type": "code",
      "source": [
        "# Initializing a variable with zeros\n",
        "var_zero = tf.Variable(tf.zeros([2, 3]), name='zero_initializer')\n",
        "\n",
        "# Initializing a variable with random values\n",
        "var_random = tf.Variable(tf.random.normal([2, 3]), name='random_initializer')"
      ],
      "metadata": {
        "id": "p8T8XzGimo0N"
      },
      "execution_count": 3,
      "outputs": []
    },
    {
      "cell_type": "markdown",
      "source": [
        "# Naming"
      ],
      "metadata": {
        "id": "WxXnYhOwmpwH"
      }
    },
    {
      "cell_type": "code",
      "source": [
        "weight = tf.Variable(tf.random.normal([784, 256]), name='weights')\n",
        "bias = tf.constant([0.1] * 256, dtype=tf.float32, name='biases')"
      ],
      "metadata": {
        "id": "CL-x1Uo8nI2A"
      },
      "execution_count": 4,
      "outputs": []
    },
    {
      "cell_type": "markdown",
      "source": [
        "# Scope Management"
      ],
      "metadata": {
        "id": "nGEGcGolnO1B"
      }
    },
    {
      "cell_type": "code",
      "source": [
        "with tf.name_scope('layer1'):\n",
        "    weights = tf.Variable(tf.random.normal([784, 256]), name='weights')\n",
        "    biases = tf.constant([0.1] * 256, dtype=tf.float32, name='biases')"
      ],
      "metadata": {
        "id": "ycwJuckSnKJV"
      },
      "execution_count": 5,
      "outputs": []
    },
    {
      "cell_type": "markdown",
      "source": [
        "# Building a simple linear model"
      ],
      "metadata": {
        "id": "ASa__nW9ngK8"
      }
    },
    {
      "cell_type": "code",
      "source": [
        "import tensorflow as tf\n",
        "\n",
        "# Define Constants for input data\n",
        "X = tf.constant([[1.0], [2.0], [3.0], [4.0]], dtype=tf.float32)  # Input features\n",
        "Y = tf.constant([[2.0], [4.0], [6.0], [8.0]], dtype=tf.float32)  # Target values\n",
        "\n",
        "# Define Variables for model parameters (weights and bias)\n",
        "W = tf.Variable([[0.0]], dtype=tf.float32, name='weight')\n",
        "b = tf.Variable([0.0], dtype=tf.float32, name='bias')\n",
        "\n",
        "# Define the linear model\n",
        "def linear_model(X):\n",
        "    return tf.matmul(X, W) + b\n",
        "\n",
        "# Define the loss function (Mean Squared Error)\n",
        "def loss_fn(y_pred, y_true):\n",
        "    return tf.reduce_mean(tf.square(y_pred - y_true))\n",
        "\n",
        "# Define the optimizer\n",
        "optimizer = tf.optimizers.SGD(learning_rate=0.01)\n",
        "\n",
        "# Training loop\n",
        "for epoch in range(1000):\n",
        "    with tf.GradientTape() as tape:\n",
        "        y_pred = linear_model(X)\n",
        "        loss = loss_fn(y_pred, Y)\n",
        "\n",
        "    # Compute gradients\n",
        "    gradients = tape.gradient(loss, [W, b])\n",
        "\n",
        "    # Update variables\n",
        "    optimizer.apply_gradients(zip(gradients, [W, b]))\n",
        "\n",
        "    if epoch % 100 == 0:\n",
        "        print(f\"Epoch {epoch}: Loss = {loss.numpy()}, W = {W.numpy()}, b = {b.numpy()}\")\n",
        "\n",
        "# Final model parameters\n",
        "print(\"Trained Weights:\", W.numpy())\n",
        "print(\"Trained Bias:\", b.numpy())"
      ],
      "metadata": {
        "colab": {
          "base_uri": "https://localhost:8080/"
        },
        "id": "dq54Oo3-nXJd",
        "outputId": "a9aa1e43-83e3-4b85-accc-6bc66e8c05e1"
      },
      "execution_count": 6,
      "outputs": [
        {
          "output_type": "stream",
          "name": "stdout",
          "text": [
            "Epoch 0: Loss = 30.0, W = [[0.29999998]], b = [0.09999999]\n",
            "Epoch 100: Loss = 0.03408462926745415, W = [[1.8468075]], b = [0.45040485]\n",
            "Epoch 200: Loss = 0.01871202513575554, W = [[1.8864939]], b = [0.33372158]\n",
            "Epoch 300: Loss = 0.010272667743265629, W = [[1.9158992]], b = [0.24726659]\n",
            "Epoch 400: Loss = 0.005639577750116587, W = [[1.9376867]], b = [0.18320896]\n",
            "Epoch 500: Loss = 0.0030960547737777233, W = [[1.9538298]], b = [0.13574634]\n",
            "Epoch 600: Loss = 0.001699708285741508, W = [[1.9657906]], b = [0.10057957]\n",
            "Epoch 700: Loss = 0.0009331251494586468, W = [[1.974653]], b = [0.0745233]\n",
            "Epoch 800: Loss = 0.0005122720031067729, W = [[1.9812194]], b = [0.05521719]\n",
            "Epoch 900: Loss = 0.00028123249649070203, W = [[1.9860847]], b = [0.04091255]\n",
            "Trained Weights: [[1.9896587]]\n",
            "Trained Bias: [0.03040474]\n"
          ]
        }
      ]
    }
  ]
}