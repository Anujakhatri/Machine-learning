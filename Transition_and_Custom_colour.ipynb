{
  "nbformat": 4,
  "nbformat_minor": 0,
  "metadata": {
    "colab": {
      "provenance": [],
      "authorship_tag": "ABX9TyNWMaf6x+ee/q5sM65VSgYb",
      "include_colab_link": true
    },
    "kernelspec": {
      "name": "python3",
      "display_name": "Python 3"
    },
    "language_info": {
      "name": "python"
    }
  },
  "cells": [
    {
      "cell_type": "markdown",
      "metadata": {
        "id": "view-in-github",
        "colab_type": "text"
      },
      "source": [
        "<a href=\"https://colab.research.google.com/github/Anujakhatri/Machine-learning/blob/main/Transition_and_Custom_colour.ipynb\" target=\"_parent\"><img src=\"https://colab.research.google.com/assets/colab-badge.svg\" alt=\"Open In Colab\"/></a>"
      ]
    },
    {
      "cell_type": "code",
      "source": [
        "import matplotlib.pyplot as plt\n",
        "import numpy as np\n",
        "\n",
        "# Different shades of red (RGB values)\n",
        "red_shades = np.array([\n",
        "    [[30, 0, 0], [60, 0, 0], [90, 0, 0]],\n",
        "    [[120, 0, 0], [150, 0, 0], [180, 0, 0]],\n",
        "    [[210, 0, 0], [240, 0, 0], [255, 0, 0]]\n",
        "], dtype=np.uint8)\n",
        "\n",
        "# Display the image\n",
        "plt.imshow(red_shades)\n",
        "plt.axis('off')  #hides the axis\n",
        "plt.show()\n"
      ],
      "metadata": {
        "colab": {
          "base_uri": "https://localhost:8080/",
          "height": 406
        },
        "id": "8CPwzfn-uAyf",
        "outputId": "6364a449-a25e-4763-f31c-a31d7a6e11e7"
      },
      "execution_count": 3,
      "outputs": [
        {
          "output_type": "display_data",
          "data": {
            "text/plain": [
              "<Figure size 640x480 with 1 Axes>"
            ],
            "image/png": "[encoded data removed]"
          },
          "metadata": {}
        }
      ]
    },
    {
      "cell_type": "code",
      "source": [
        "rgb_shades = np.array([\n",
        "    [[0, 70, 0], [0, 150, 0], [0, 255, 0]],      # Greens\n",
        "    [[70, 0, 0], [150, 0, 0], [255, 0, 0]],      # Reds\n",
        "    [[0, 0, 70], [0, 0, 150], [0, 0, 255]]       # Blues\n",
        "], dtype=np.uint8)\n",
        "\n",
        "# Display the image\n",
        "plt.imshow(rgb_shades)\n",
        "plt.axis('off')  # Hides the axis ticks\n",
        "plt.show()\n"
      ],
      "metadata": {
        "colab": {
          "base_uri": "https://localhost:8080/",
          "height": 406
        },
        "id": "DLfrk3KguM58",
        "outputId": "7d574005-8208-4fdb-df95-9a2c43394f4e"
      },
      "execution_count": 5,
      "outputs": [
        {
          "output_type": "display_data",
          "data": {
            "text/plain": [
              "<Figure size 640x480 with 1 Axes>"
            ],
            "image/png": "[encoded data removed]"
          },
          "metadata": {}
        }
      ]
    },
    {
      "cell_type": "code",
      "source": [
        "img = []\n",
        "width = 1920  # Unified width for all sections\n",
        "\n",
        "# Red transition (black-red-black)\n",
        "for i in range(256):              # black to red\n",
        "    img.append([[i, 0, 0]] * width)\n",
        "for i in range(255, -1, -1):      # red to black\n",
        "    img.append([[i, 0, 0]] * width)\n",
        "\n",
        "# Green transition (black-green-black)\n",
        "for i in range(256):\n",
        "    img.append([[0, i, 0]] * width)\n",
        "for i in range(255, -1, -1):\n",
        "    img.append([[0, i, 0]] * width)\n",
        "\n",
        "# Blue transition (black-blue-black)\n",
        "for i in range(256):\n",
        "    img.append([[0, 0, i]] * width)\n",
        "for i in range(255, -1, -1):\n",
        "    img.append([[0, 0, i]] * width)\n",
        "\n",
        "# Convert to NumPy array\n",
        "img = np.array(img, dtype=np.uint8)\n",
        "\n",
        "# Show the image\n",
        "plt.imshow(img)\n",
        "plt.axis('off')  #opt-hide axes\n",
        "plt.show()"
      ],
      "metadata": {
        "colab": {
          "base_uri": "https://localhost:8080/",
          "height": 406
        },
        "id": "M-HsQzOXud9w",
        "outputId": "3194958c-759e-4759-9d2d-1aa227a55239"
      },
      "execution_count": 7,
      "outputs": [
        {
          "output_type": "display_data",
          "data": {
            "text/plain": [
              "<Figure size 640x480 with 1 Axes>"
            ],
            "image/png": "[encoded data removed]"
          },
          "metadata": {}
        }
      ]
    },
    {
      "cell_type": "code",
      "source": [
        "#Creating Custom Colours\n",
        "custom_colors = np.array([\n",
        "    [[249, 220, 104], [55, 126, 34], [90, 0, 0]],\n",
        "    [[139, 206, 247], [239, 134, 59], [180, 0, 0]],\n",
        "    [[113, 178, 229], [240, 0, 0], [255, 0, 0]]\n",
        "], dtype=np.uint8)\n",
        "\n",
        "#custom color image\n",
        "plt.imshow(custom_colors)\n",
        "plt.axis('off')  # Hide axes\n",
        "plt.show()"
      ],
      "metadata": {
        "colab": {
          "base_uri": "https://localhost:8080/",
          "height": 406
        },
        "id": "ghuJNphyuoKC",
        "outputId": "c29d9727-4a3c-4ce3-a384-a83603ea66ed"
      },
      "execution_count": 9,
      "outputs": [
        {
          "output_type": "display_data",
          "data": {
            "text/plain": [
              "<Figure size 640x480 with 1 Axes>"
            ],
            "image/png": "[encoded data removed]"
          },
          "metadata": {}
        }
      ]
    },
    {
      "cell_type": "code",
      "source": [],
      "metadata": {
        "id": "UXypYdoPu7Tx"
      },
      "execution_count": null,
      "outputs": []
    }
  ]
}